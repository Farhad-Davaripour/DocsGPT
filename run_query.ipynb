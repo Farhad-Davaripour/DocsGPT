{
  "cells": [
    {
      "cell_type": "markdown",
      "metadata": {
        "id": "BF2j80VwRWjc"
      },
      "source": [
        "<a href=\"https://colab.research.google.com/github/Farhad-Davaripour/DocsGPT/blob/main/run_query.ipynb\" target=\"_parent\"><img src=\"https://colab.research.google.com/assets/colab-badge.svg\" alt=\"Open In Colab\"/></a>"
      ]
    },
    {
      "cell_type": "markdown",
      "source": [
        "## Run below cell to start DocsGPT\n",
        "- You need to provide openAI API. You can get your API token using this [link](https://platform.openai.com/account/billing/overview\").\n",
        "- After entering your API key, you will be prompted to upload your PDF file. This file will be saved in your Google Drive in the following address: `/content/drive/MyDrive/repo_path`.\n",
        "- Finally, submit your queries (ask your questions) about the uploaded document. Make sure to type \"stop\" once you have no further questions."
      ],
      "metadata": {
        "id": "-Xoyq6qeUenO"
      }
    },
    {
      "cell_type": "code",
      "execution_count": null,
      "metadata": {
        "id": "qHWq75Qeij38",
        "cellView": "form"
      },
      "outputs": [],
      "source": [
        "#@title \n",
        "# connect your Google Drive\n",
        "from google.colab import drive\n",
        "drive.mount('/content/drive', force_remount=True)\n",
        "\n",
        "import os\n",
        "drive_path = '/content/drive/MyDrive'\n",
        "folder_name = 'git_repo'\n",
        "folder_path = os.path.join(drive_path, folder_name)\n",
        "if not os.path.exists(folder_path):\n",
        "    os.makedirs(folder_path)\n",
        "    \n",
        "repo_path = os.path.join(folder_path, \"DocsGPT\")\n",
        "\n",
        "if not os.path.exists(repo_path):\n",
        "  os.chdir(folder_path)\n",
        "  !git clone https://github.com/Farhad-Davaripour/DocsGPT.git\n",
        "  os.chdir(repo_path)\n",
        "else:\n",
        "  os.chdir(repo_path)\n",
        "  !git pull\n",
        "\n",
        "# import docsGpt\n",
        "import docsGpt\n",
        "\n",
        "# this run the conversational based on uploaded PDF\n",
        "docsGpt.run_conversation(folder_path)"
      ]
    },
    {
      "cell_type": "markdown",
      "source": [
        "## Feedback\n",
        "\n",
        "Thank you for using this app! We hope you find it useful for your querying needs. Please don't hesitate to contact to [Farhad Davaripour](https://github.com/Farhad-Davaripour) and [Armin Norouzi](https://github.com/arminnorouzi) with any questions or feedback.\n",
        "\n",
        "&copy; 2023 Farhad Davaripour and Armin Norouzi"
      ],
      "metadata": {
        "id": "gYVVc58kVQaD"
      }
    }
  ],
  "metadata": {
    "colab": {
      "provenance": [],
      "toc_visible": true
    },
    "gpuClass": "standard",
    "kernelspec": {
      "display_name": "Python 3",
      "name": "python3"
    },
    "language_info": {
      "codemirror_mode": {
        "name": "ipython",
        "version": 3
      },
      "file_extension": ".py",
      "mimetype": "text/x-python",
      "name": "python",
      "nbconvert_exporter": "python",
      "pygments_lexer": "ipython3",
      "version": "3.9.13"
    }
  },
  "nbformat": 4,
  "nbformat_minor": 0
}